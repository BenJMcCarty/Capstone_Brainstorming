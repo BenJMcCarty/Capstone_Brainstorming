{
 "cells": [
  {
   "cell_type": "markdown",
   "metadata": {},
   "source": [
    "## Amadeus SDK Testing"
   ]
  },
  {
   "cell_type": "code",
   "execution_count": 1,
   "metadata": {
    "ExecuteTime": {
     "end_time": "2021-08-15T23:52:53.679517Z",
     "start_time": "2021-08-15T23:52:51.872972Z"
    }
   },
   "outputs": [
    {
     "name": "stdout",
     "output_type": "stream",
     "text": [
      "Requirement already satisfied: amadeus in c:\\users\\bmcca\\anaconda3\\lib\\site-packages (5.1.0)\n"
     ]
    }
   ],
   "source": [
    "# ! pip install amadeus"
   ]
  },
  {
   "cell_type": "code",
   "execution_count": 1,
   "metadata": {
    "ExecuteTime": {
     "end_time": "2021-08-15T20:00:19.656728Z",
     "start_time": "2021-08-15T20:00:19.565730Z"
    }
   },
   "outputs": [
    {
     "name": "stdout",
     "output_type": "stream",
     "text": [
      "/c/Users/bmcca/anaconda3/envs/learn-env-bmc/python\n"
     ]
    }
   ],
   "source": [
    "# ! which python"
   ]
  },
  {
   "cell_type": "code",
   "execution_count": 1,
   "metadata": {
    "ExecuteTime": {
     "end_time": "2021-08-15T23:52:00.253587Z",
     "start_time": "2021-08-15T23:52:00.193559Z"
    }
   },
   "outputs": [],
   "source": [
    "from amadeus import Client, ResponseError"
   ]
  },
  {
   "cell_type": "code",
   "execution_count": 2,
   "metadata": {
    "ExecuteTime": {
     "end_time": "2021-08-15T23:52:07.480353Z",
     "start_time": "2021-08-15T23:52:03.761297Z"
    }
   },
   "outputs": [],
   "source": [
    "import json\n",
    "import pandas as pd\n",
    "import numpy as np\n",
    "import matplotlib.pyplot as plt\n",
    "import seaborn as sns\n",
    "\n",
    "import requests"
   ]
  },
  {
   "cell_type": "code",
   "execution_count": 2,
   "metadata": {
    "ExecuteTime": {
     "end_time": "2021-08-15T23:51:31.723802Z",
     "start_time": "2021-08-15T23:51:31.712803Z"
    }
   },
   "outputs": [
    {
     "data": {
      "text/plain": [
       "'0.25.1'"
      ]
     },
     "execution_count": 2,
     "metadata": {},
     "output_type": "execute_result"
    }
   ],
   "source": [
    "# pd.__version__"
   ]
  },
  {
   "cell_type": "code",
   "execution_count": null,
   "metadata": {},
   "outputs": [],
   "source": []
  },
  {
   "cell_type": "code",
   "execution_count": null,
   "metadata": {
    "ExecuteTime": {
     "end_time": "2021-08-15T19:00:23.375392Z",
     "start_time": "2021-08-15T19:00:23.363388Z"
    }
   },
   "outputs": [],
   "source": [
    "# # Opening secret folder for Yelp API key\n",
    "# with open(r'C:\\Users\\bmcca\\.secret\\amadeus_api.json') as f:\n",
    "#     keys = json.load(f)"
   ]
  },
  {
   "cell_type": "code",
   "execution_count": null,
   "metadata": {
    "ExecuteTime": {
     "end_time": "2021-08-15T19:00:29.901909Z",
     "start_time": "2021-08-15T19:00:29.888843Z"
    }
   },
   "outputs": [],
   "source": [
    "# keys"
   ]
  },
  {
   "cell_type": "code",
   "execution_count": null,
   "metadata": {
    "ExecuteTime": {
     "end_time": "2021-08-15T19:01:02.748061Z",
     "start_time": "2021-08-15T19:01:02.738063Z"
    }
   },
   "outputs": [],
   "source": [
    "# client_id = keys['key']\n",
    "# client_secret = keys['secret']"
   ]
  },
  {
   "cell_type": "code",
   "execution_count": null,
   "metadata": {
    "ExecuteTime": {
     "end_time": "2021-08-15T19:01:03.043557Z",
     "start_time": "2021-08-15T19:01:03.025558Z"
    },
    "code_folding": [
     0
    ]
   },
   "outputs": [],
   "source": [
    "# ## Code copied from:\n",
    "# ## https://rapidapi.com/amadeus-for-developers-amadeus-for-developers-default/api/trip-purpose-prediction2/\n",
    "\n",
    "# url = \"https://trip-purpose-prediction2.p.rapidapi.com/travel/predictions/trip-purpose\"\n",
    "\n",
    "# querystring = {\"destinationLocationCode\":\"<REQUIRED>\",\"returnDate\":\"<REQUIRED>\",\"originLocationCode\":\"<REQUIRED>\",\"departureDate\":\"<REQUIRED>\"}\n",
    "\n",
    "# headers = {\n",
    "#     'x-rapidapi-key': \"b90be786femshd4cd91318b8c5c3p1b9e75jsn20ef1e95bb0f\",\n",
    "#     'x-rapidapi-host': \"trip-purpose-prediction2.p.rapidapi.com\"\n",
    "#     }\n",
    "\n",
    "# response = requests.request(\"GET\", url, headers=headers, params=querystring)\n",
    "\n",
    "# print(response.text)"
   ]
  },
  {
   "cell_type": "code",
   "execution_count": null,
   "metadata": {
    "ExecuteTime": {
     "end_time": "2021-08-15T19:02:01.193257Z",
     "start_time": "2021-08-15T19:02:01.188256Z"
    }
   },
   "outputs": [],
   "source": [
    "## Code from:\n",
    "## \n",
    "\n",
    "# amadeus = Client(\n",
    "#     client_id=client_id,\n",
    "#     client_secret=client_secret\n",
    "# )\n",
    "\n",
    "# try:\n",
    "#     '''\n",
    "#     What travelers think about this hotel?\n",
    "#     '''\n",
    "#     response = amadeus.e_reputation.hotel_sentiments.get(hotelIds = 'ADNYCCTB')\n",
    "#     print(response.data)\n",
    "# except ResponseError as error:\n",
    "#     raise error"
   ]
  },
  {
   "cell_type": "code",
   "execution_count": null,
   "metadata": {
    "ExecuteTime": {
     "end_time": "2021-08-15T19:19:53.043185Z",
     "start_time": "2021-08-15T19:19:53.031485Z"
    }
   },
   "outputs": [],
   "source": [
    "## Attempt to get access token manually - may be auto-generated when running\n",
    "## methods\n",
    "\n",
    "# amadeus.post('https://test.api.amadeus.com/v1/security/oauth2/token',\n",
    "#              params = {'client_id' : client_id,\n",
    "#                        'client_secret' : client_secret,\n",
    "#                        'grant_type': 'client_credentials'})"
   ]
  },
  {
   "cell_type": "code",
   "execution_count": null,
   "metadata": {
    "ExecuteTime": {
     "end_time": "2021-08-15T19:36:57.589498Z",
     "start_time": "2021-08-15T19:36:57.576519Z"
    }
   },
   "outputs": [],
   "source": [
    "# amadeus.e_reputation.hotel_sentiments.get(hotelIds = 'ADNYCCTB')"
   ]
  },
  {
   "cell_type": "code",
   "execution_count": null,
   "metadata": {
    "ExecuteTime": {
     "end_time": "2021-08-15T19:36:59.804894Z",
     "start_time": "2021-08-15T19:36:59.112494Z"
    }
   },
   "outputs": [],
   "source": [
    "# amadeus = Client(\n",
    "#     client_id='YOUR_AMADEUS_API_KEY',\n",
    "#     client_secret='YOUR_AMADEUS_API_SECRET'\n",
    "# )\n",
    "\n",
    "# try:\n",
    "#     '''\n",
    "#     What travelers think about this hotel?\n",
    "#     '''\n",
    "#     response = amadeus.e_reputation.hotel_sentiments.get(hotelIds = 'ADNYCCTB')\n",
    "#     print(response.data)\n",
    "# except ResponseError as error:\n",
    "#     raise error"
   ]
  },
  {
   "cell_type": "code",
   "execution_count": null,
   "metadata": {},
   "outputs": [],
   "source": [
    "# from amadeus import Client, ResponseError\n",
    "\n",
    "# amadeus = Client(\n",
    "#     client_id='REPLACE_BY_YOUR_API_KEY',\n",
    "#     client_secret='REPLACE_BY_YOUR_API_SECRET'\n",
    "# )\n",
    "\n",
    "# try:\n",
    "#     response = amadeus.shopping.flight_offers_search.get(\n",
    "#         originLocationCode='SYD',\n",
    "#         destinationLocationCode='BKK',\n",
    "#         departureDate='2021-11-01',\n",
    "#         adults=1)\n",
    "#     print(response.data)\n",
    "# except ResponseError as error:\n",
    "#     print(error)\n"
   ]
  }
 ],
 "metadata": {
  "kernelspec": {
   "display_name": "learn-env",
   "language": "python",
   "name": "learn-env"
  },
  "language_info": {
   "codemirror_mode": {
    "name": "ipython",
    "version": 3
   },
   "file_extension": ".py",
   "mimetype": "text/x-python",
   "name": "python",
   "nbconvert_exporter": "python",
   "pygments_lexer": "ipython3",
   "version": "3.6.9"
  },
  "toc": {
   "base_numbering": 1,
   "nav_menu": {},
   "number_sections": true,
   "sideBar": true,
   "skip_h1_title": false,
   "title_cell": "Table of Contents",
   "title_sidebar": "Contents",
   "toc_cell": false,
   "toc_position": {},
   "toc_section_display": true,
   "toc_window_display": false
  }
 },
 "nbformat": 4,
 "nbformat_minor": 4
}
