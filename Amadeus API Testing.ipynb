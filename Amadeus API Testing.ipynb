{
 "cells": [
  {
   "cell_type": "markdown",
   "metadata": {},
   "source": [
    "## Amadeus SDK Testing"
   ]
  },
  {
   "cell_type": "code",
   "execution_count": null,
   "metadata": {
    "ExecuteTime": {
     "end_time": "2021-08-16T19:47:30.713955Z",
     "start_time": "2021-08-16T19:47:30.707985Z"
    }
   },
   "outputs": [],
   "source": [
    "# ! pip install amadeus"
   ]
  },
  {
   "cell_type": "code",
   "execution_count": null,
   "metadata": {
    "ExecuteTime": {
     "end_time": "2021-08-16T22:17:15.915384Z",
     "start_time": "2021-08-16T22:17:14.251386Z"
    }
   },
   "outputs": [],
   "source": [
    "import amadeus\n",
    "from amadeus import Client, ResponseError\n",
    "\n",
    "import json\n",
    "import pandas as pd\n",
    "import numpy as np\n",
    "import matplotlib.pyplot as plt\n",
    "import seaborn as sns\n",
    "\n",
    "import requests"
   ]
  },
  {
   "cell_type": "code",
   "execution_count": null,
   "metadata": {
    "ExecuteTime": {
     "end_time": "2021-08-16T22:17:15.931387Z",
     "start_time": "2021-08-16T22:17:15.917384Z"
    }
   },
   "outputs": [],
   "source": [
    "# Opening secret folder for Yelp API key\n",
    "with open(r'C:\\Users\\bmcca\\.secret\\amadeus_api.json') as f:\n",
    "    keys = json.load(f)"
   ]
  },
  {
   "cell_type": "code",
   "execution_count": null,
   "metadata": {
    "ExecuteTime": {
     "end_time": "2021-08-16T22:17:15.962395Z",
     "start_time": "2021-08-16T22:17:15.934400Z"
    }
   },
   "outputs": [],
   "source": [
    "keys.keys()"
   ]
  },
  {
   "cell_type": "code",
   "execution_count": null,
   "metadata": {
    "ExecuteTime": {
     "end_time": "2021-08-16T22:17:16.339950Z",
     "start_time": "2021-08-16T22:17:16.333925Z"
    }
   },
   "outputs": [],
   "source": [
    "client_secret = keys['secret']\n",
    "client_id = keys['key']"
   ]
  },
  {
   "cell_type": "code",
   "execution_count": null,
   "metadata": {
    "ExecuteTime": {
     "end_time": "2021-08-16T22:17:18.540116Z",
     "start_time": "2021-08-16T22:17:18.523111Z"
    },
    "scrolled": false
   },
   "outputs": [],
   "source": [
    "## Code from:\n",
    "## https://github.com/amadeus4dev/amadeus-code-examples/blob/master/hotel_ratings/v2/get/Python%20SDK/hotel_ratings.py\n",
    "\n",
    "\n",
    "amadeus = Client(\n",
    "    client_id=client_id,\n",
    "    client_secret=client_secret\n",
    ")\n",
    "# help(amadeus)"
   ]
  },
  {
   "cell_type": "code",
   "execution_count": null,
   "metadata": {
    "ExecuteTime": {
     "end_time": "2021-08-16T22:17:42.371307Z",
     "start_time": "2021-08-16T22:17:41.754055Z"
    }
   },
   "outputs": [],
   "source": [
    "## Getting authorization token - DO NOT DELETE!!!!\n",
    "\n",
    "url = \"https://test.api.amadeus.com/v1/security/oauth2/token\"\n",
    "\n",
    "payload=f'grant_type=client_credentials&client_id={client_id}&client_secret={client_secret}'\n",
    "\n",
    "headers = {\"Content-Type\": \"application/x-www-form-urlencoded\"}\n",
    "\n",
    "response = requests.request(\"POST\", url, headers=headers, data=payload)\n",
    "\n",
    "print(response.text)"
   ]
  },
  {
   "cell_type": "code",
   "execution_count": null,
   "metadata": {
    "ExecuteTime": {
     "end_time": "2021-08-16T23:03:25.079732Z",
     "start_time": "2021-08-16T23:03:25.062703Z"
    }
   },
   "outputs": [],
   "source": [
    "amadeus.e_reputation"
   ]
  },
  {
   "cell_type": "code",
   "execution_count": null,
   "metadata": {
    "ExecuteTime": {
     "end_time": "2021-08-16T22:58:48.930509Z",
     "start_time": "2021-08-16T22:58:46.002853Z"
    }
   },
   "outputs": [],
   "source": [
    "## Code from:\n",
    "## https://github.com/amadeus4dev/amadeus-code-examples/blob/master/hotel_ratings/v2/get/Python%20SDK/hotel_ratings.py\n",
    "\n",
    "try:\n",
    "    '''\n",
    "    What travelers think about this hotel?\n",
    "    '''\n",
    "    response = amadeus.e_reputation.hotel_sentiments.get(hotelIds ='ADNYCCTB')\n",
    "    print(response.data)\n",
    "except ResponseError as error:\n",
    "    raise error"
   ]
  },
  {
   "cell_type": "code",
   "execution_count": null,
   "metadata": {
    "ExecuteTime": {
     "end_time": "2021-08-16T22:59:08.677923Z",
     "start_time": "2021-08-16T22:59:07.889885Z"
    }
   },
   "outputs": [],
   "source": [
    "amadeus.get('/v2/e-reputation/hotel-sentiments', hotelIds='ICNYCCF8')"
   ]
  },
  {
   "cell_type": "code",
   "execution_count": null,
   "metadata": {
    "ExecuteTime": {
     "end_time": "2021-08-16T19:47:32.221953Z",
     "start_time": "2021-08-16T19:47:32.211955Z"
    },
    "code_folding": []
   },
   "outputs": [],
   "source": [
    "# ## Code copied from:\n",
    "# ## https://rapidapi.com/amadeus-for-developers-amadeus-for-developers-default/api/trip-purpose-prediction2/\n",
    "\n",
    "# url = \"https://trip-purpose-prediction2.p.rapidapi.com/travel/predictions/trip-purpose\"\n",
    "\n",
    "# querystring = {\"destinationLocationCode\":\"<REQUIRED>\",\"returnDate\":\"<REQUIRED>\",\"originLocationCode\":\"<REQUIRED>\",\"departureDate\":\"<REQUIRED>\"}\n",
    "\n",
    "# headers = {\n",
    "#     'x-rapidapi-key': \"b90be786femshd4cd91318b8c5c3p1b9e75jsn20ef1e95bb0f\",\n",
    "#     'x-rapidapi-host': \"trip-purpose-prediction2.p.rapidapi.com\"\n",
    "#     }\n",
    "\n",
    "# response = requests.request(\"GET\", url, headers=headers, params=querystring)\n",
    "\n",
    "# print(response.text)"
   ]
  },
  {
   "cell_type": "code",
   "execution_count": null,
   "metadata": {
    "ExecuteTime": {
     "end_time": "2021-08-16T19:47:53.793906Z",
     "start_time": "2021-08-16T19:47:53.781907Z"
    }
   },
   "outputs": [],
   "source": [
    "# amadeus.get('/v2/reference-data/urls/checkin-links', airlineCode='BA')"
   ]
  },
  {
   "cell_type": "code",
   "execution_count": null,
   "metadata": {
    "ExecuteTime": {
     "end_time": "2021-08-16T19:47:45.193781Z",
     "start_time": "2021-08-16T19:47:30.726Z"
    }
   },
   "outputs": [],
   "source": [
    "# try:\n",
    "# #     # Get list of Hotels by city code\n",
    "#     hotels_by_city = amadeus.shopping.hotel_offers.get(cityCode='NYC')\n",
    "\n",
    "    # Get list of offers for a specific hotel\n",
    "#     hotel_offers = amadeus.shopping.hotel_offers_by_hotel.get(hotelId = 'ADNYCCTB', checkInDate='2021-09-01', checkOutDate='2021-09-02')\n",
    "\n",
    "#     # Confirm the availability of a specific offer\n",
    "#     offer = hotel_offers.data['offers'][0]['id']\n",
    "#     offer_availability = amadeus.shopping.hotel_offer(offer).get()\n",
    "\n",
    "#     guests = [{'id': 1, 'name': { 'title': 'MR', 'firstName': 'BOB', 'lastName': 'SMITH' }, 'contact': { 'phone': '+33679278416', 'email': 'bob.smith@email.com'}}]\n",
    "#     payments = { 'id': 1, 'method': 'creditCard', 'card': { 'vendorCode': 'VI', 'cardNumber': '4151289722471370', 'expiryDate': '2021-08' } }\n",
    "\n",
    "#     hotel_booking = amadeus.booking.hotel_bookings.post(offer, guests, payments)\n",
    "#     print(hotel_booking.data)\n",
    "# except ResponseError as error:\n",
    "#     raise error"
   ]
  },
  {
   "cell_type": "code",
   "execution_count": null,
   "metadata": {
    "ExecuteTime": {
     "end_time": "2021-08-16T19:48:01.866986Z",
     "start_time": "2021-08-16T19:48:01.861986Z"
    },
    "scrolled": true
   },
   "outputs": [],
   "source": [
    "# hotels_by_city.data"
   ]
  },
  {
   "cell_type": "code",
   "execution_count": null,
   "metadata": {
    "ExecuteTime": {
     "end_time": "2021-08-16T19:51:18.155813Z",
     "start_time": "2021-08-16T19:51:17.654210Z"
    }
   },
   "outputs": [],
   "source": [
    "# import requests\n",
    "\n",
    "# url = \"https://test.api.amadeus.com/v2/e-reputation/hotel-sentiments?hotelIds=ELONMFS,ADNYCCTB,XXXYYY01\"\n",
    "\n",
    "# payload={}\n",
    "# headers = {}\n",
    "\n",
    "# response = requests.request(\"GET\", url, headers=headers, data=payload)\n",
    "\n",
    "# print(response.text)"
   ]
  },
  {
   "cell_type": "code",
   "execution_count": null,
   "metadata": {},
   "outputs": [],
   "source": [
    "# amadeus.get('/v2/reference-data/urls/checkin-links', airlineCode='BA')"
   ]
  },
  {
   "cell_type": "code",
   "execution_count": null,
   "metadata": {
    "ExecuteTime": {
     "end_time": "2021-08-15T19:19:53.043185Z",
     "start_time": "2021-08-15T19:19:53.031485Z"
    }
   },
   "outputs": [],
   "source": [
    "## Attempt to get access token manually - may be auto-generated when running\n",
    "## methods\n",
    "\n",
    "# amadeus.post('https://test.api.amadeus.com/v1/security/oauth2/token',\n",
    "#              params = {'client_id' : client_id,\n",
    "#                        'client_secret' : client_secret,\n",
    "#                        'grant_type': 'client_credentials'})"
   ]
  },
  {
   "cell_type": "code",
   "execution_count": null,
   "metadata": {
    "ExecuteTime": {
     "end_time": "2021-08-15T19:36:57.589498Z",
     "start_time": "2021-08-15T19:36:57.576519Z"
    }
   },
   "outputs": [],
   "source": [
    "# amadeus.e_reputation.hotel_sentiments.get(hotelIds = 'ADNYCCTB')"
   ]
  },
  {
   "cell_type": "code",
   "execution_count": null,
   "metadata": {
    "ExecuteTime": {
     "end_time": "2021-08-15T19:36:59.804894Z",
     "start_time": "2021-08-15T19:36:59.112494Z"
    }
   },
   "outputs": [],
   "source": [
    "# amadeus = Client(\n",
    "#     client_id='YOUR_AMADEUS_API_KEY',\n",
    "#     client_secret='YOUR_AMADEUS_API_SECRET'\n",
    "# )\n",
    "\n",
    "# try:\n",
    "#     '''\n",
    "#     What travelers think about this hotel?\n",
    "#     '''\n",
    "#     response = amadeus.e_reputation.hotel_sentiments.get(hotelIds = 'ADNYCCTB')\n",
    "#     print(response.data)\n",
    "# except ResponseError as error:\n",
    "#     raise error"
   ]
  },
  {
   "cell_type": "code",
   "execution_count": null,
   "metadata": {},
   "outputs": [],
   "source": [
    "# from amadeus import Client, ResponseError\n",
    "\n",
    "# amadeus = Client(\n",
    "#     client_id='REPLACE_BY_YOUR_API_KEY',\n",
    "#     client_secret='REPLACE_BY_YOUR_API_SECRET'\n",
    "# )\n",
    "\n",
    "# try:\n",
    "#     response = amadeus.shopping.flight_offers_search.get(\n",
    "#         originLocationCode='SYD',\n",
    "#         destinationLocationCode='BKK',\n",
    "#         departureDate='2021-11-01',\n",
    "#         adults=1)\n",
    "#     print(response.data)\n",
    "# except ResponseError as error:\n",
    "#     print(error)\n"
   ]
  }
 ],
 "metadata": {
  "kernelspec": {
   "display_name": "learn-env",
   "language": "python",
   "name": "learn-env"
  },
  "language_info": {
   "codemirror_mode": {
    "name": "ipython",
    "version": 3
   },
   "file_extension": ".py",
   "mimetype": "text/x-python",
   "name": "python",
   "nbconvert_exporter": "python",
   "pygments_lexer": "ipython3",
   "version": "3.6.9"
  },
  "toc": {
   "base_numbering": 1,
   "nav_menu": {},
   "number_sections": true,
   "sideBar": true,
   "skip_h1_title": false,
   "title_cell": "Table of Contents",
   "title_sidebar": "Contents",
   "toc_cell": false,
   "toc_position": {},
   "toc_section_display": true,
   "toc_window_display": false
  }
 },
 "nbformat": 4,
 "nbformat_minor": 4
}
